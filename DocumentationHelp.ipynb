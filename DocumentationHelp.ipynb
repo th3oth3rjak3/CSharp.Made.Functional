{
 "cells": [
  {
   "cell_type": "markdown",
   "metadata": {},
   "source": [
    "### Getting Started\n",
    "\n",
    "MkDocs uses a python package installed locally in the virtual environment. In order to run the documentation site to inspect it locally before publishing, run the command `mkdocs serve`."
   ]
  }
 ],
 "metadata": {
  "language_info": {
   "name": "python"
  }
 },
 "nbformat": 4,
 "nbformat_minor": 2
}
